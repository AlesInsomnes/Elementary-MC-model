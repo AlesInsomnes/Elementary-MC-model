{
 "cells": [
  {
   "cell_type": "code",
   "execution_count": null,
   "id": "ab6202d6",
   "metadata": {},
   "outputs": [],
   "source": [
    "import os\n",
    "import sys\n",
    "import time\n",
    "from pathlib import Path as Pt"
   ]
  },
  {
   "cell_type": "code",
   "execution_count": null,
   "id": "ab1ca53c",
   "metadata": {},
   "outputs": [],
   "source": [
    "base = Pt(r\"AxesVelocity (COPY)\").rglob(\"*.png\")\n",
    "a = set()\n",
    "for p in base:\n",
    "    b = p.stem.split(\"_\")[-1]\n",
    "    a.update([b])"
   ]
  },
  {
   "cell_type": "code",
   "execution_count": null,
   "id": "a2c3fb0b",
   "metadata": {},
   "outputs": [],
   "source": [
    "# base = Pt(r\"AxesVelocity (COPY)\").rglob(\"*.png\")\n",
    "\n",
    "# good = {\n",
    "#     \"00000000\",\n",
    "#     \"00000010\",\n",
    "#     \"00000020\",\n",
    "#     \"00000030\",\n",
    "#     \"00000040\",\n",
    "#     \"00000050\",\n",
    "#     \"00000060\",\n",
    "#     \"00000070\",\n",
    "#     \"00000080\",\n",
    "#     \"00000090\",\n",
    "#     \"00000100\",\n",
    "#     \"00000101\",\n",
    "#     \"first\",\n",
    "#     \"last\",\n",
    "#     \"markers\",\n",
    "# }\n",
    "\n",
    "\n",
    "# for p in base:\n",
    "#     b = p.stem.split(\"_\")[-1]\n",
    "\n",
    "#     if b not in good:\n",
    "#         p.unlink()\n",
    "#         print(f\"File: {p.name}\")\n"
   ]
  }
 ],
 "metadata": {
  "kernelspec": {
   "display_name": "Python 3",
   "language": "python",
   "name": "python3"
  },
  "language_info": {
   "codemirror_mode": {
    "name": "ipython",
    "version": 3
   },
   "file_extension": ".py",
   "mimetype": "text/x-python",
   "name": "python",
   "nbconvert_exporter": "python",
   "pygments_lexer": "ipython3",
   "version": "3.10.11"
  }
 },
 "nbformat": 4,
 "nbformat_minor": 5
}
